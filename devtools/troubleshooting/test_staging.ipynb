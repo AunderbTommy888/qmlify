{
 "cells": [
  {
   "cell_type": "markdown",
   "metadata": {},
   "source": [
    "## Test staging area\n",
    "Primary tests:\n",
    "1. `propagation/ANI_force_and_energy`\n",
    "2. `propagation/Integrator`\n",
    "3. `propagation/Propagator`\n",
    "4. `propagation/BackwardPropagator`\n",
    "5. `propagation/ANIPropagator`\n",
    "6. `propagation/annealed_importance_sampling`\n",
    "7. `propagation/ANI_endstate_sampler`"
   ]
  },
  {
   "cell_type": "markdown",
   "metadata": {},
   "source": [
    "### 1. `propagation/ANI_force_and_energy`\n",
    "DONE"
   ]
  },
  {
   "cell_type": "markdown",
   "metadata": {},
   "source": [
    "### 2/3. `propagation/Integrator`, `propagation/Propagator`"
   ]
  },
  {
   "cell_type": "markdown",
   "metadata": {},
   "source": [
    "in progress"
   ]
  },
  {
   "cell_type": "code",
   "execution_count": 1,
   "metadata": {},
   "outputs": [],
   "source": [
    "from qmlify.tests.test_propagation import test_Integrator_Propagator"
   ]
  },
  {
   "cell_type": "code",
   "execution_count": 2,
   "metadata": {},
   "outputs": [
    {
     "name": "stderr",
     "output_type": "stream",
     "text": [
      "RDKit WARNING: [23:15:30] Enabling RDKit 2019.09.3 jupyter extensions\n"
     ]
    },
    {
     "name": "stdout",
     "output_type": "stream",
     "text": [
      "conducting subsequent work with the following platform: CPU\n"
     ]
    },
    {
     "name": "stderr",
     "output_type": "stream",
     "text": [
      "INFO:utils.openeye:molecule                       does not have unique atom names. Generating now...\n",
      "DEBUG:perses.forcefields.system_generators:Trying GAFFTemplateGenerator to load gaff-2.11\n",
      "DEBUG:perses.forcefields.system_generators:Trying GAFFTemplateGenerator to load gaff-2.11\n",
      "INFO:openmmforcefields.generators.template_generators:Requested to generate parameters for residue <Residue 0 (MOL) of chain 0>\n",
      "INFO:openmmforcefields.generators.template_generators:Generating a residue template for [H]C([H])([H])C([H])([H])C([H])([H])C([H])([H])[H]\n",
      "DEBUG:openmmforcefields.generators.template_generators:Total charge is 0\n",
      "DEBUG:openmmforcefields.generators.template_generators:Computing AM1-BCC charges...\n",
      "DEBUG:openmmforcefields.generators.template_generators:Generating a conformer...\n",
      "DEBUG:openmmforcefields.generators.template_generators:Running antechamber...\n",
      "DEBUG:openmmforcefields.generators.template_generators:antechamber -i in.mdl -fi mdl -o out.mol2 -fo mol2 -s 0 -at 2 -dr no\n",
      "DEBUG:openmmforcefields.generators.template_generators:\n",
      "Welcome to antechamber 19.0: molecular input file processor.\n",
      "\n",
      "\n",
      "DEBUG:openmmforcefields.generators.template_generators:parmchk2 -i out.mol2 -f mol2 -p /home/dominic/anaconda3/envs/openmm/lib/python3.6/site-packages/openmmforcefields/ffxml/amber/gaff/dat/gaff-2.11.dat -o out.frcmod -s %2\n",
      "DEBUG:openmmforcefields.generators.template_generators:\n",
      "DEBUG:openmmforcefields.generators.template_generators:Reading GAFF atom types...\n",
      "DEBUG:openmmforcefields.generators.template_generators:Fixing partial charges...\n",
      "DEBUG:openmmforcefields.generators.template_generators:[-0.0922     -0.09218    -0.08010001 -0.08010001  0.03231001  0.03231001\n",
      "  0.03231001  0.03231001  0.03231001  0.03231001  0.03768     0.03768\n",
      "  0.03768     0.03768   ] e\n",
      "DEBUG:openmmforcefields.generators.template_generators:[-0.0922     -0.09218    -0.08010001 -0.08010001  0.03231     0.03231\n",
      "  0.03231     0.03231     0.03231     0.03231     0.03768     0.03768\n",
      "  0.03768     0.03768   ] e\n",
      "DEBUG:openmmforcefields.generators.template_generators:Creating ffxml contents for additional parameters...\n",
      "DEBUG:parmed.openmm.parameters:Valid patch combinations:\n",
      "DEBUG:openmmforcefields.generators.template_generators:Creating residue template...\n",
      "DEBUG:openmmforcefields.generators.template_generators:ffxml creation complete.\n",
      "INFO:openmmforcefields.generators.template_generators:Requested to generate parameters for residue <Residue 0 (MOL) of chain 0>\n",
      "INFO:openmmforcefields.generators.template_generators:Generating a residue template for [H]C([H])([H])C([H])([H])C([H])([H])C([H])([H])[H]\n",
      "DEBUG:openmmforcefields.generators.template_generators:Total charge is 0\n",
      "DEBUG:openmmforcefields.generators.template_generators:Computing AM1-BCC charges...\n",
      "DEBUG:openmmforcefields.generators.template_generators:Generating a conformer...\n",
      "DEBUG:openmmforcefields.generators.template_generators:Running antechamber...\n",
      "DEBUG:openmmforcefields.generators.template_generators:antechamber -i in.mdl -fi mdl -o out.mol2 -fo mol2 -s 0 -at 2 -dr no\n",
      "DEBUG:openmmforcefields.generators.template_generators:\n",
      "Welcome to antechamber 19.0: molecular input file processor.\n",
      "\n",
      "\n",
      "DEBUG:openmmforcefields.generators.template_generators:parmchk2 -i out.mol2 -f mol2 -p /home/dominic/anaconda3/envs/openmm/lib/python3.6/site-packages/openmmforcefields/ffxml/amber/gaff/dat/gaff-2.11.dat -o out.frcmod -s %2\n",
      "DEBUG:openmmforcefields.generators.template_generators:\n",
      "DEBUG:openmmforcefields.generators.template_generators:Reading GAFF atom types...\n",
      "DEBUG:openmmforcefields.generators.template_generators:Fixing partial charges...\n",
      "DEBUG:openmmforcefields.generators.template_generators:[-0.0922     -0.09218    -0.08010001 -0.08010001  0.03231001  0.03231001\n",
      "  0.03231001  0.03231001  0.03231001  0.03231001  0.03768     0.03768\n",
      "  0.03768     0.03768   ] e\n",
      "DEBUG:openmmforcefields.generators.template_generators:[-0.0922     -0.09218    -0.08010001 -0.08010001  0.03231     0.03231\n",
      "  0.03231     0.03231     0.03231     0.03231     0.03768     0.03768\n",
      "  0.03768     0.03768   ] e\n",
      "DEBUG:openmmforcefields.generators.template_generators:Creating ffxml contents for additional parameters...\n",
      "DEBUG:parmed.openmm.parameters:Valid patch combinations:\n",
      "DEBUG:openmmforcefields.generators.template_generators:Creating residue template...\n",
      "DEBUG:openmmforcefields.generators.template_generators:ffxml creation complete.\n"
     ]
    },
    {
     "name": "stdout",
     "output_type": "stream",
     "text": [
      "conducting subsequent work with the following platform: CPU\n",
      "step      0 : allow forces to update the context state\n",
      "step      1 : if(has_kT_changed = 1):\n",
      "step      2 :    sigma <- sqrt(kT/m)\n",
      "step      3 :    has_kT_changed <- 0\n",
      "step      4 : end\n",
      "step      5 : old_ke <- sum(0.5 * m * v * v)\n",
      "step      6 : v <- v + (dt / 1) * modified_force / m\n",
      "step      7 : constrain velocities\n",
      "step      8 : new_ke <- sum(0.5 * m * v * v)\n",
      "step      9 : shadow_work <- shadow_work + (new_ke - old_ke)\n",
      "step     10 : old_pe <- energy\n",
      "step     11 : old_ke <- sum(0.5 * m * v * v)\n",
      "step     12 : x <- x + ((dt / 2) * v)\n",
      "step     13 : x1 <- x\n",
      "step     14 : constrain positions\n",
      "step     15 : v <- v + ((x - x1) / (dt / 2))\n",
      "step     16 : constrain velocities\n",
      "step     17 : new_pe <- energy\n",
      "step     18 : new_ke <- sum(0.5 * m * v * v)\n",
      "step     19 : shadow_work <- shadow_work + (new_ke + new_pe) - (old_ke + old_pe)\n",
      "step     20 : old_ke <- sum(0.5 * m * v * v)\n",
      "step     21 : v <- (a * v) + (b * sigma * gaussian)\n",
      "step     22 : constrain velocities\n",
      "step     23 : new_ke <- sum(0.5 * m * v * v)\n",
      "step     24 : proposal_work <- proposal_work + -1*(new_ke - old_ke)\n",
      "step     25 : old_pe <- energy\n",
      "step     26 : old_ke <- sum(0.5 * m * v * v)\n",
      "step     27 : x <- x + ((dt / 2) * v)\n",
      "step     28 : x1 <- x\n",
      "step     29 : constrain positions\n",
      "step     30 : v <- v + ((x - x1) / (dt / 2))\n",
      "step     31 : constrain velocities\n",
      "step     32 : new_pe <- energy\n",
      "step     33 : new_ke <- sum(0.5 * m * v * v)\n",
      "step     34 : shadow_work <- shadow_work + (new_ke + new_pe) - (old_ke + old_pe)\n",
      "step     35 : modified_force <- f\n"
     ]
    },
    {
     "ename": "NameError",
     "evalue": "name 'atom_map' is not defined",
     "output_type": "error",
     "traceback": [
      "\u001b[0;31m---------------------------------------------------------------------------\u001b[0m",
      "\u001b[0;31mNameError\u001b[0m                                 Traceback (most recent call last)",
      "\u001b[0;32m<ipython-input-2-9e6d4e815e20>\u001b[0m in \u001b[0;36m<module>\u001b[0;34m\u001b[0m\n\u001b[0;32m----> 1\u001b[0;31m \u001b[0mtest_Integrator_Propagator\u001b[0m\u001b[0;34m(\u001b[0m\u001b[0;34m)\u001b[0m\u001b[0;34m\u001b[0m\u001b[0;34m\u001b[0m\u001b[0m\n\u001b[0m",
      "\u001b[0;32m~/anaconda3/envs/openmm/lib/python3.6/site-packages/qmlify-0+untagged.4.g8117fa1.dirty-py3.6.egg/qmlify/tests/test_propagation.py\u001b[0m in \u001b[0;36mtest_Integrator_Propagator\u001b[0;34m(annealing_steps)\u001b[0m\n\u001b[1;32m    260\u001b[0m     \u001b[0mPropagator_update_particle_state_substate\u001b[0m\u001b[0;34m(\u001b[0m\u001b[0mpropagator\u001b[0m\u001b[0;34m,\u001b[0m \u001b[0mparticle\u001b[0m\u001b[0;34m)\u001b[0m\u001b[0;34m\u001b[0m\u001b[0;34m\u001b[0m\u001b[0m\n\u001b[1;32m    261\u001b[0m     \u001b[0mPropagator_compute_hybrid_potential\u001b[0m\u001b[0;34m(\u001b[0m\u001b[0mpropagator\u001b[0m\u001b[0;34m,\u001b[0m \u001b[0mparticle\u001b[0m\u001b[0;34m)\u001b[0m\u001b[0;34m\u001b[0m\u001b[0;34m\u001b[0m\u001b[0m\n\u001b[0;32m--> 262\u001b[0;31m     \u001b[0mPropagator_compute_hybrid_forces\u001b[0m\u001b[0;34m(\u001b[0m\u001b[0mpropagator\u001b[0m\u001b[0;34m,\u001b[0m \u001b[0mparticle\u001b[0m\u001b[0;34m)\u001b[0m\u001b[0;34m\u001b[0m\u001b[0;34m\u001b[0m\u001b[0m\n\u001b[0m",
      "\u001b[0;32m~/anaconda3/envs/openmm/lib/python3.6/site-packages/qmlify-0+untagged.4.g8117fa1.dirty-py3.6.egg/qmlify/tests/test_propagation.py\u001b[0m in \u001b[0;36mPropagator_compute_hybrid_forces\u001b[0;34m(propagator, particle, atol)\u001b[0m\n\u001b[1;32m    232\u001b[0m     \u001b[0mpropagator\u001b[0m\u001b[0;34m.\u001b[0m\u001b[0m_update_force\u001b[0m\u001b[0;34m(\u001b[0m\u001b[0mparticle\u001b[0m\u001b[0;34m.\u001b[0m\u001b[0mstate\u001b[0m\u001b[0;34m)\u001b[0m\u001b[0;34m\u001b[0m\u001b[0;34m\u001b[0m\u001b[0m\n\u001b[1;32m    233\u001b[0m     \u001b[0mmod_force\u001b[0m \u001b[0;34m=\u001b[0m \u001b[0mnp\u001b[0m\u001b[0;34m.\u001b[0m\u001b[0marray\u001b[0m\u001b[0;34m(\u001b[0m\u001b[0mpropagator\u001b[0m\u001b[0;34m.\u001b[0m\u001b[0mintegrator\u001b[0m\u001b[0;34m.\u001b[0m\u001b[0mgetPerDofVariableByName\u001b[0m\u001b[0;34m(\u001b[0m\u001b[0;34m'modified_force'\u001b[0m\u001b[0;34m)\u001b[0m\u001b[0;34m)\u001b[0m\u001b[0;34m\u001b[0m\u001b[0;34m\u001b[0m\u001b[0m\n\u001b[0;32m--> 234\u001b[0;31m     \u001b[0mmapped_new_indices\u001b[0m \u001b[0;34m=\u001b[0m \u001b[0mlist\u001b[0m\u001b[0;34m(\u001b[0m\u001b[0matom_map\u001b[0m\u001b[0;34m.\u001b[0m\u001b[0mkeys\u001b[0m\u001b[0;34m(\u001b[0m\u001b[0;34m)\u001b[0m\u001b[0;34m)\u001b[0m\u001b[0;34m\u001b[0m\u001b[0;34m\u001b[0m\u001b[0m\n\u001b[0m\u001b[1;32m    235\u001b[0m     \u001b[0mnonmapped_indices\u001b[0m \u001b[0;34m=\u001b[0m \u001b[0;34m[\u001b[0m\u001b[0mi\u001b[0m \u001b[0;32mfor\u001b[0m \u001b[0mi\u001b[0m \u001b[0;32min\u001b[0m \u001b[0mrange\u001b[0m\u001b[0;34m(\u001b[0m\u001b[0mlen\u001b[0m\u001b[0;34m(\u001b[0m\u001b[0mforce\u001b[0m\u001b[0;34m)\u001b[0m\u001b[0;34m)\u001b[0m \u001b[0;32mif\u001b[0m \u001b[0mi\u001b[0m \u001b[0;32mnot\u001b[0m \u001b[0;32min\u001b[0m \u001b[0mmapped_new_indices\u001b[0m\u001b[0;34m]\u001b[0m\u001b[0;34m\u001b[0m\u001b[0;34m\u001b[0m\u001b[0m\n\u001b[1;32m    236\u001b[0m     \u001b[0mforce_subset\u001b[0m\u001b[0;34m,\u001b[0m \u001b[0mmod_force_subset\u001b[0m \u001b[0;34m=\u001b[0m \u001b[0mforce\u001b[0m\u001b[0;34m[\u001b[0m\u001b[0mmapped_new_indices\u001b[0m\u001b[0;34m,\u001b[0m\u001b[0;34m:\u001b[0m\u001b[0;34m]\u001b[0m\u001b[0;34m.\u001b[0m\u001b[0mflatten\u001b[0m\u001b[0;34m(\u001b[0m\u001b[0;34m)\u001b[0m\u001b[0;34m,\u001b[0m \u001b[0mmod_force\u001b[0m\u001b[0;34m[\u001b[0m\u001b[0mmapped_new_indices\u001b[0m\u001b[0;34m,\u001b[0m\u001b[0;34m:\u001b[0m\u001b[0;34m]\u001b[0m\u001b[0;34m.\u001b[0m\u001b[0mflatten\u001b[0m\u001b[0;34m(\u001b[0m\u001b[0;34m)\u001b[0m\u001b[0;34m\u001b[0m\u001b[0;34m\u001b[0m\u001b[0m\n",
      "\u001b[0;31mNameError\u001b[0m: name 'atom_map' is not defined"
     ]
    }
   ],
   "source": [
    "test_Integrator_Propagator()"
   ]
  },
  {
   "cell_type": "code",
   "execution_count": null,
   "metadata": {},
   "outputs": [],
   "source": []
  }
 ],
 "metadata": {
  "kernelspec": {
   "display_name": "Python 3",
   "language": "python",
   "name": "python3"
  },
  "language_info": {
   "codemirror_mode": {
    "name": "ipython",
    "version": 3
   },
   "file_extension": ".py",
   "mimetype": "text/x-python",
   "name": "python",
   "nbconvert_exporter": "python",
   "pygments_lexer": "ipython3",
   "version": "3.6.7"
  }
 },
 "nbformat": 4,
 "nbformat_minor": 4
}
