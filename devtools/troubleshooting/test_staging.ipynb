{
 "cells": [
  {
   "cell_type": "markdown",
   "metadata": {},
   "source": [
    "## Test staging area\n",
    "Primary tests:\n",
    "1. `propagation/ANI_force_and_energy`\n",
    "2. `propagation/Integrator`\n",
    "3. `propagation/Propagator`\n",
    "4. `propagation/BackwardPropagator`\n",
    "5. `propagation/ANIPropagator`\n",
    "6. `propagation/annealed_importance_sampling`\n",
    "7. `propagation/ANI_endstate_sampler`"
   ]
  },
  {
   "cell_type": "markdown",
   "metadata": {},
   "source": [
    "### 1. `propagation/ANI_force_and_energy`\n",
    "DONE"
   ]
  },
  {
   "cell_type": "markdown",
   "metadata": {},
   "source": [
    "### 2/3. `propagation/Integrator`, `propagation/Propagator`"
   ]
  },
  {
   "cell_type": "markdown",
   "metadata": {},
   "source": [
    "in progress"
   ]
  },
  {
   "cell_type": "code",
   "execution_count": null,
   "metadata": {},
   "outputs": [],
   "source": []
  }
 ],
 "metadata": {
  "kernelspec": {
   "display_name": "Python 3",
   "language": "python",
   "name": "python3"
  },
  "language_info": {
   "codemirror_mode": {
    "name": "ipython",
    "version": 3
   },
   "file_extension": ".py",
   "mimetype": "text/x-python",
   "name": "python",
   "nbconvert_exporter": "python",
   "pygments_lexer": "ipython3",
   "version": "3.6.7"
  }
 },
 "nbformat": 4,
 "nbformat_minor": 4
}
