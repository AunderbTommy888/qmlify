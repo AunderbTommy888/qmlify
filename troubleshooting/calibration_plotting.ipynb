{
 "cells": [
  {
   "cell_type": "markdown",
   "metadata": {},
   "source": [
    "## I'll make and demonstrate a forward work plotting tool that calibrates (or at least demonstrates the utility) of NEQ at several annealing times."
   ]
  },
  {
   "cell_type": "markdown",
   "metadata": {},
   "source": [
    "In performing NEQ MM $\\rightarrow$ ML/MM free energy corrections, it becomes necessary to calibrate the annealing time (in our case, in the forward direction). The procedure amounts to this:\n",
    "1. extract $N \\approx 100$ MM snapshots from a single ligand in the solvent phase;\n",
    "2. choose a set $\\{ T_{i, neq} \\}$ of nonequilibrium switching times (typically ranging from 2fs to 20ps) and perform forward NEQ with these snapshots;\n",
    "3. extract the works from the forward annealing protocol and plot the work distributions for each annealing time;\n",
    "4. plot the variance of the work distribution as a function of the annealing time;\n",
    "5. extract the ligand positions of each protocol's final coniguration for each annealing time and observe that the molecule isn't doing anything crazy (e.g. blowing up)."
   ]
  },
  {
   "cell_type": "markdown",
   "metadata": {},
   "source": [
    "This notebook will demonstrate points `3` and `4`."
   ]
  },
  {
   "cell_type": "code",
   "execution_count": null,
   "metadata": {},
   "outputs": [],
   "source": []
  }
 ],
 "metadata": {
  "kernelspec": {
   "display_name": "Python 3",
   "language": "python",
   "name": "python3"
  },
  "language_info": {
   "codemirror_mode": {
    "name": "ipython",
    "version": 3
   },
   "file_extension": ".py",
   "mimetype": "text/x-python",
   "name": "python",
   "nbconvert_exporter": "python",
   "pygments_lexer": "ipython3",
   "version": "3.6.7"
  }
 },
 "nbformat": 4,
 "nbformat_minor": 4
}
